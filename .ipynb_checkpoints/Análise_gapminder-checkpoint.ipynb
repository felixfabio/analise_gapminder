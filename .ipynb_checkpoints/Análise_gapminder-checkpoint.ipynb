{
 "cells": [
  {
   "cell_type": "markdown",
   "id": "43b2c109",
   "metadata": {},
   "source": [
    "### Importando as bibliotecas Pandas para análise do DataFrame e a biblioteca MatPlotLib para visualização gráficas dos dados"
   ]
  },
  {
   "cell_type": "code",
   "execution_count": 36,
   "id": "be166142",
   "metadata": {},
   "outputs": [],
   "source": [
    "import pandas as pd\n",
    "import matplotlib.pyplot as plt\n",
    "plt.style.use(\"seaborn\")"
   ]
  },
  {
   "cell_type": "code",
   "execution_count": 11,
   "id": "a2068b64",
   "metadata": {},
   "outputs": [],
   "source": [
    "df = pd.read_csv(\"gapminder_full.csv\")"
   ]
  },
  {
   "cell_type": "code",
   "execution_count": 12,
   "id": "8003449f",
   "metadata": {},
   "outputs": [
    {
     "data": {
      "text/html": [
       "<div>\n",
       "<style scoped>\n",
       "    .dataframe tbody tr th:only-of-type {\n",
       "        vertical-align: middle;\n",
       "    }\n",
       "\n",
       "    .dataframe tbody tr th {\n",
       "        vertical-align: top;\n",
       "    }\n",
       "\n",
       "    .dataframe thead th {\n",
       "        text-align: right;\n",
       "    }\n",
       "</style>\n",
       "<table border=\"1\" class=\"dataframe\">\n",
       "  <thead>\n",
       "    <tr style=\"text-align: right;\">\n",
       "      <th></th>\n",
       "      <th>country</th>\n",
       "      <th>year</th>\n",
       "      <th>population</th>\n",
       "      <th>continent</th>\n",
       "      <th>life_exp</th>\n",
       "      <th>gdp_cap</th>\n",
       "    </tr>\n",
       "  </thead>\n",
       "  <tbody>\n",
       "    <tr>\n",
       "      <th>0</th>\n",
       "      <td>Afghanistan</td>\n",
       "      <td>1952</td>\n",
       "      <td>8425333</td>\n",
       "      <td>Asia</td>\n",
       "      <td>28.801</td>\n",
       "      <td>779.445314</td>\n",
       "    </tr>\n",
       "    <tr>\n",
       "      <th>1</th>\n",
       "      <td>Afghanistan</td>\n",
       "      <td>1957</td>\n",
       "      <td>9240934</td>\n",
       "      <td>Asia</td>\n",
       "      <td>30.332</td>\n",
       "      <td>820.853030</td>\n",
       "    </tr>\n",
       "    <tr>\n",
       "      <th>2</th>\n",
       "      <td>Afghanistan</td>\n",
       "      <td>1962</td>\n",
       "      <td>10267083</td>\n",
       "      <td>Asia</td>\n",
       "      <td>31.997</td>\n",
       "      <td>853.100710</td>\n",
       "    </tr>\n",
       "    <tr>\n",
       "      <th>3</th>\n",
       "      <td>Afghanistan</td>\n",
       "      <td>1967</td>\n",
       "      <td>11537966</td>\n",
       "      <td>Asia</td>\n",
       "      <td>34.020</td>\n",
       "      <td>836.197138</td>\n",
       "    </tr>\n",
       "    <tr>\n",
       "      <th>4</th>\n",
       "      <td>Afghanistan</td>\n",
       "      <td>1972</td>\n",
       "      <td>13079460</td>\n",
       "      <td>Asia</td>\n",
       "      <td>36.088</td>\n",
       "      <td>739.981106</td>\n",
       "    </tr>\n",
       "  </tbody>\n",
       "</table>\n",
       "</div>"
      ],
      "text/plain": [
       "       country  year  population continent  life_exp     gdp_cap\n",
       "0  Afghanistan  1952     8425333      Asia    28.801  779.445314\n",
       "1  Afghanistan  1957     9240934      Asia    30.332  820.853030\n",
       "2  Afghanistan  1962    10267083      Asia    31.997  853.100710\n",
       "3  Afghanistan  1967    11537966      Asia    34.020  836.197138\n",
       "4  Afghanistan  1972    13079460      Asia    36.088  739.981106"
      ]
     },
     "execution_count": 12,
     "metadata": {},
     "output_type": "execute_result"
    }
   ],
   "source": [
    "df.head()"
   ]
  },
  {
   "cell_type": "markdown",
   "id": "fcee673d",
   "metadata": {},
   "source": [
    "### Traduzindo as colunas de inglês para português"
   ]
  },
  {
   "cell_type": "code",
   "execution_count": 13,
   "id": "b3082960",
   "metadata": {},
   "outputs": [],
   "source": [
    "df = df.rename(columns={\"country\":\"pais\",\"year\":\"ano\",\"population\":\"populacao\",\"continent\":\"continente\",\"life_exp\":\"expectativa de vida\",\"gdp_cap\":\"PIB\"})"
   ]
  },
  {
   "cell_type": "code",
   "execution_count": 14,
   "id": "dea4661d",
   "metadata": {},
   "outputs": [
    {
     "data": {
      "text/html": [
       "<div>\n",
       "<style scoped>\n",
       "    .dataframe tbody tr th:only-of-type {\n",
       "        vertical-align: middle;\n",
       "    }\n",
       "\n",
       "    .dataframe tbody tr th {\n",
       "        vertical-align: top;\n",
       "    }\n",
       "\n",
       "    .dataframe thead th {\n",
       "        text-align: right;\n",
       "    }\n",
       "</style>\n",
       "<table border=\"1\" class=\"dataframe\">\n",
       "  <thead>\n",
       "    <tr style=\"text-align: right;\">\n",
       "      <th></th>\n",
       "      <th>pais</th>\n",
       "      <th>ano</th>\n",
       "      <th>populacao</th>\n",
       "      <th>continente</th>\n",
       "      <th>expectativa de vida</th>\n",
       "      <th>PIB</th>\n",
       "    </tr>\n",
       "  </thead>\n",
       "  <tbody>\n",
       "    <tr>\n",
       "      <th>0</th>\n",
       "      <td>Afghanistan</td>\n",
       "      <td>1952</td>\n",
       "      <td>8425333</td>\n",
       "      <td>Asia</td>\n",
       "      <td>28.801</td>\n",
       "      <td>779.445314</td>\n",
       "    </tr>\n",
       "    <tr>\n",
       "      <th>1</th>\n",
       "      <td>Afghanistan</td>\n",
       "      <td>1957</td>\n",
       "      <td>9240934</td>\n",
       "      <td>Asia</td>\n",
       "      <td>30.332</td>\n",
       "      <td>820.853030</td>\n",
       "    </tr>\n",
       "    <tr>\n",
       "      <th>2</th>\n",
       "      <td>Afghanistan</td>\n",
       "      <td>1962</td>\n",
       "      <td>10267083</td>\n",
       "      <td>Asia</td>\n",
       "      <td>31.997</td>\n",
       "      <td>853.100710</td>\n",
       "    </tr>\n",
       "    <tr>\n",
       "      <th>3</th>\n",
       "      <td>Afghanistan</td>\n",
       "      <td>1967</td>\n",
       "      <td>11537966</td>\n",
       "      <td>Asia</td>\n",
       "      <td>34.020</td>\n",
       "      <td>836.197138</td>\n",
       "    </tr>\n",
       "    <tr>\n",
       "      <th>4</th>\n",
       "      <td>Afghanistan</td>\n",
       "      <td>1972</td>\n",
       "      <td>13079460</td>\n",
       "      <td>Asia</td>\n",
       "      <td>36.088</td>\n",
       "      <td>739.981106</td>\n",
       "    </tr>\n",
       "  </tbody>\n",
       "</table>\n",
       "</div>"
      ],
      "text/plain": [
       "          pais   ano  populacao continente  expectativa de vida         PIB\n",
       "0  Afghanistan  1952    8425333       Asia               28.801  779.445314\n",
       "1  Afghanistan  1957    9240934       Asia               30.332  820.853030\n",
       "2  Afghanistan  1962   10267083       Asia               31.997  853.100710\n",
       "3  Afghanistan  1967   11537966       Asia               34.020  836.197138\n",
       "4  Afghanistan  1972   13079460       Asia               36.088  739.981106"
      ]
     },
     "execution_count": 14,
     "metadata": {},
     "output_type": "execute_result"
    }
   ],
   "source": [
    "df.head()"
   ]
  },
  {
   "cell_type": "markdown",
   "id": "1029e089",
   "metadata": {},
   "source": [
    "### Verificando se existe algum dado faltando no DataFrame"
   ]
  },
  {
   "cell_type": "code",
   "execution_count": 28,
   "id": "91e50920",
   "metadata": {},
   "outputs": [
    {
     "data": {
      "text/plain": [
       "pais                   0\n",
       "ano                    0\n",
       "populacao              0\n",
       "continente             0\n",
       "expectativa de vida    0\n",
       "PIB                    0\n",
       "dtype: int64"
      ]
     },
     "execution_count": 28,
     "metadata": {},
     "output_type": "execute_result"
    }
   ],
   "source": [
    "df.isnull().sum()"
   ]
  },
  {
   "cell_type": "markdown",
   "id": "0e97855c",
   "metadata": {},
   "source": [
    "### Identificando as colunas do DataFrame"
   ]
  },
  {
   "cell_type": "code",
   "execution_count": 29,
   "id": "3a59c22f",
   "metadata": {},
   "outputs": [
    {
     "data": {
      "text/plain": [
       "Index(['pais', 'ano', 'populacao', 'continente', 'expectativa de vida', 'PIB'], dtype='object')"
      ]
     },
     "execution_count": 29,
     "metadata": {},
     "output_type": "execute_result"
    }
   ],
   "source": [
    "df.columns"
   ]
  },
  {
   "cell_type": "markdown",
   "id": "3cd9e23f",
   "metadata": {},
   "source": [
    "### Identificando os continentes contidos no DataFrame"
   ]
  },
  {
   "cell_type": "code",
   "execution_count": 88,
   "id": "dba5e8dd",
   "metadata": {},
   "outputs": [
    {
     "data": {
      "text/plain": [
       "array(['Asia', 'Europe', 'Africa', 'Americas', 'Oceania'], dtype=object)"
      ]
     },
     "execution_count": 88,
     "metadata": {},
     "output_type": "execute_result"
    }
   ],
   "source": [
    "df[\"continente\"].unique()"
   ]
  },
  {
   "cell_type": "markdown",
   "id": "1785f4e6",
   "metadata": {},
   "source": [
    "### Dividindo o DataFrame por continente"
   ]
  },
  {
   "cell_type": "code",
   "execution_count": 31,
   "id": "a0d9e389",
   "metadata": {},
   "outputs": [],
   "source": [
    "df_Asia = df.loc[df[\"continente\"] == \"Asia\"]\n",
    "df_Europa = df.loc[df[\"continente\"] == \"Europe\"]\n",
    "df_Africa = df.loc[df[\"continente\"] == \"Africa\"]\n",
    "df_Americas = df.loc[df[\"continente\"] == \"Americas\"]\n",
    "df_Oceania = df.loc[df[\"continente\"] == \"Oceania\"]"
   ]
  },
  {
   "cell_type": "markdown",
   "id": "2d1f0caa",
   "metadata": {},
   "source": [
    "### Contando quantos paises existem em cada continente"
   ]
  },
  {
   "cell_type": "code",
   "execution_count": 32,
   "id": "473e4e93",
   "metadata": {},
   "outputs": [
    {
     "data": {
      "text/plain": [
       "continente\n",
       "Africa      52\n",
       "Americas    25\n",
       "Asia        33\n",
       "Europe      30\n",
       "Oceania      2\n",
       "Name: pais, dtype: int64"
      ]
     },
     "execution_count": 32,
     "metadata": {},
     "output_type": "execute_result"
    }
   ],
   "source": [
    "df.groupby(\"continente\")[\"pais\"].nunique()"
   ]
  },
  {
   "cell_type": "code",
   "execution_count": 44,
   "id": "90808d89",
   "metadata": {},
   "outputs": [
    {
     "data": {
      "image/png": "[encoded data removed]",
      "text/plain": [
       "<Figure size 576x396 with 1 Axes>"
      ]
     },
     "metadata": {},
     "output_type": "display_data"
    }
   ],
   "source": [
    "df.groupby(\"continente\")[\"pais\"].nunique().plot.bar(title=\"Quantidade de países por continente\")\n",
    "plt.xticks(rotation='horizontal');"
   ]
  },
  {
   "cell_type": "markdown",
   "id": "fe66d641",
   "metadata": {},
   "source": [
    "## ----------------------------------- 1. Análise para o continente da Asia ------------------------------------------"
   ]
  },
  {
   "cell_type": "code",
   "execution_count": 141,
   "id": "487ce471",
   "metadata": {},
   "outputs": [
    {
     "data": {
      "text/plain": [
       "array(['Afghanistan', 'Bahrain', 'Bangladesh', 'Cambodia', 'China',\n",
       "       'Hong Kong, China', 'India', 'Indonesia', 'Iran', 'Iraq', 'Israel',\n",
       "       'Japan', 'Jordan', 'Korea, Dem. Rep.', 'Korea, Rep.', 'Kuwait',\n",
       "       'Lebanon', 'Malaysia', 'Mongolia', 'Myanmar', 'Nepal', 'Oman',\n",
       "       'Pakistan', 'Philippines', 'Saudi Arabia', 'Singapore',\n",
       "       'Sri Lanka', 'Syria', 'Taiwan', 'Thailand', 'Vietnam',\n",
       "       'West Bank and Gaza', 'Yemen, Rep.'], dtype=object)"
      ]
     },
     "execution_count": 141,
     "metadata": {},
     "output_type": "execute_result"
    }
   ],
   "source": [
    "df_Asia[\"pais\"].unique()"
   ]
  },
  {
   "cell_type": "markdown",
   "id": "00e5d2f1",
   "metadata": {},
   "source": [
    "### 1.1 Aqui foi realizada a média da expectativa de vida dentre os Países da Asia, nos anos que estão presentes no DataFrame"
   ]
  },
  {
   "cell_type": "code",
   "execution_count": 163,
   "id": "5e4f7c41",
   "metadata": {},
   "outputs": [
    {
     "name": "stdout",
     "output_type": "stream",
     "text": [
      "pais\n",
      "Japan                 74.826917\n",
      "Israel                73.645833\n",
      "Hong Kong, China      73.492833\n",
      "Singapore             71.220250\n",
      "Taiwan                70.336667\n",
      "Kuwait                68.922333\n",
      "Sri Lanka             66.526083\n",
      "Lebanon               65.865667\n",
      "Bahrain               65.605667\n",
      "Korea, Rep.           65.001000\n",
      "Malaysia              64.279583\n",
      "Korea, Dem. Rep.      63.607333\n",
      "Thailand              62.200250\n",
      "China                 61.785140\n",
      "Syria                 61.346167\n",
      "Philippines           60.967250\n",
      "West Bank and Gaza    60.328667\n",
      "Jordan                59.786417\n",
      "Saudi Arabia          58.678750\n",
      "Iran                  58.636583\n",
      "Oman                  58.442667\n",
      "Vietnam               57.479500\n",
      "Iraq                  56.581750\n",
      "Mongolia              55.890333\n",
      "Pakistan              54.882250\n",
      "Indonesia             54.335750\n",
      "Myanmar               53.321667\n",
      "India                 53.166083\n",
      "Bangladesh            49.834083\n",
      "Nepal                 48.986333\n",
      "Cambodia              47.902750\n",
      "Yemen, Rep.           46.780417\n",
      "Afghanistan           37.478833\n",
      "Name: expectativa de vida, dtype: float64\n"
     ]
    }
   ],
   "source": [
    "top5_EXP_Asia = df_Asia.groupby(\"pais\")[\"expectativa de vida\"].mean().sort_values(ascending=False)\n",
    "print(top5_EXP_Asia)"
   ]
  },
  {
   "cell_type": "code",
   "execution_count": 164,
   "id": "0fa57ff2",
   "metadata": {},
   "outputs": [],
   "source": [
    "top5_EXP_Asia = top5_EXP_Asia[:5]\n",
    "top5_EXP_Asia = [\"Japan\", \"Israel\", \"Hong Kong, China\", \"Singapore\", \"Taiwan\"]"
   ]
  },
  {
   "cell_type": "markdown",
   "id": "82a25128",
   "metadata": {},
   "source": [
    "### 1.2 Gráfico mostrando a evolução da expectativa de vida ao longo dos anos presentes no DataFrame, para os 5 países com maior média de expectativa de vida "
   ]
  },
  {
   "cell_type": "code",
   "execution_count": 165,
   "id": "87606eef",
   "metadata": {},
   "outputs": [
    {
     "data": {
      "image/png": "[encoded data removed]",
      "text/plain": [
       "<Figure size 576x396 with 1 Axes>"
      ]
     },
     "metadata": {},
     "output_type": "display_data"
    }
   ],
   "source": [
    "for pais in top5_EXP_Asia:\n",
    "    plt.scatter(x=df_Asia.loc[df_Asia[\"pais\"] == pais][\"ano\"], y = df_Asia.loc[df_Asia[\"pais\"] == pais][\"expectativa de vida\"])\n",
    "    plt.xlabel(\"Ano\")\n",
    "    plt.ylabel(\"Expectativa de vida\")\n",
    "    plt.title(\"Evolução da expectativa de vida ao longo dos anos, dos 5 países com maior média de expectativa de vida\")\n",
    "    plt.legend(top5_EXP_Asia,loc=\"best\")"
   ]
  },
  {
   "cell_type": "code",
   "execution_count": 166,
   "id": "a63de464",
   "metadata": {},
   "outputs": [
    {
     "name": "stdout",
     "output_type": "stream",
     "text": [
      "pais\n",
      "Kuwait                65332.910472\n",
      "Saudi Arabia          20261.743635\n",
      "Bahrain               18077.663945\n",
      "Japan                 17750.869984\n",
      "Singapore             17425.382267\n",
      "Hong Kong, China      16228.700865\n",
      "Israel                14160.936434\n",
      "Oman                  12138.562227\n",
      "Taiwan                10224.807181\n",
      "Korea, Rep.            8217.318485\n",
      "Iraq                   7811.809117\n",
      "Iran                   7376.582905\n",
      "Lebanon                7269.216241\n",
      "Malaysia               5406.038197\n",
      "West Bank and Gaza     3759.996781\n",
      "Jordan                 3128.120762\n",
      "Thailand               3045.966474\n",
      "Syria                  3009.287981\n",
      "Korea, Dem. Rep.       2591.852578\n",
      "Philippines            2174.771130\n",
      "Sri Lanka              1854.731119\n",
      "Indonesia              1741.365360\n",
      "Mongolia               1692.804612\n",
      "Yemen, Rep.            1569.274672\n",
      "China                  1488.307694\n",
      "Pakistan               1439.270689\n",
      "India                  1057.296307\n",
      "Vietnam                1017.712615\n",
      "Bangladesh              817.558818\n",
      "Afghanistan             802.674598\n",
      "Nepal                   782.728822\n",
      "Cambodia                675.367824\n",
      "Myanmar                 439.333333\n",
      "Name: PIB, dtype: float64\n"
     ]
    }
   ],
   "source": [
    "top5_PIB_Asia = df_Asia.groupby(\"pais\")[\"PIB\"].mean().sort_values(ascending=False)\n",
    "print(top5_PIB_Asia)"
   ]
  },
  {
   "cell_type": "code",
   "execution_count": 167,
   "id": "5067b37b",
   "metadata": {},
   "outputs": [],
   "source": [
    "top5_PIB_Asia = top5_PIB_Asia[:5]\n",
    "top5_PIB_Asia = [\"Kuwait\",\"Saudi Arabia\",\"Bahrain\",\"Japan\",\"Singapore\"]"
   ]
  },
  {
   "cell_type": "markdown",
   "id": "df1a7894",
   "metadata": {},
   "source": [
    "### 1.3 Gráfico mostrando a evolução do PIB ao longo dos anos presentes no DataFrame, para os 5 países com maior média do PIB "
   ]
  },
  {
   "cell_type": "code",
   "execution_count": 168,
   "id": "550dc99b",
   "metadata": {},
   "outputs": [
    {
     "data": {
      "image/png": "[encoded data removed]",
      "text/plain": [
       "<Figure size 576x396 with 1 Axes>"
      ]
     },
     "metadata": {},
     "output_type": "display_data"
    }
   ],
   "source": [
    "for pais in top5_PIB_Asia:\n",
    "    plt.scatter(x=df_Asia.loc[df_Asia[\"pais\"] == pais][\"ano\"], y = df_Asia.loc[df_Asia[\"pais\"] == pais][\"PIB\"])\n",
    "    plt.xlabel(\"Ano\")\n",
    "    plt.ylabel(\"PIB\")\n",
    "    plt.title(\"Evolução do PIB ao longo dos anos, dos 5 países com maior média do PIB\")\n",
    "    plt.legend(top5_PIB_Asia,loc=\"best\")"
   ]
  },
  {
   "cell_type": "markdown",
   "id": "86bc5ff3",
   "metadata": {},
   "source": [
    "### 1.4 Conclusões:\n",
    "#### O Japão e a Singapura foram os únicos países que apareceram no 5 primeiros colocados da média, tanto da expectativa de vida, quanto do PIB. \n",
    "#### O Kuwait apresentava um PIB elevadíssimo quando comparado com os outros 4 países melhores colocados na média do PIB ao longo dos anos, entretanto nas décadas de 70 e 80 apresentou uma quada considerável no PIB."
   ]
  },
  {
   "cell_type": "markdown",
   "id": "f897b20f",
   "metadata": {},
   "source": [
    "## ----------------------------------- 2. Análise para o continente da Africa ----------------------------------------"
   ]
  },
  {
   "cell_type": "code",
   "execution_count": 169,
   "id": "46cbd460",
   "metadata": {},
   "outputs": [
    {
     "data": {
      "text/plain": [
       "array(['Algeria', 'Angola', 'Benin', 'Botswana', 'Burkina Faso',\n",
       "       'Burundi', 'Cameroon', 'Central African Republic', 'Chad',\n",
       "       'Comoros', 'Congo, Dem. Rep.', 'Congo, Rep.', \"Cote d'Ivoire\",\n",
       "       'Djibouti', 'Egypt', 'Equatorial Guinea', 'Eritrea', 'Ethiopia',\n",
       "       'Gabon', 'Gambia', 'Ghana', 'Guinea', 'Guinea-Bissau', 'Kenya',\n",
       "       'Lesotho', 'Liberia', 'Libya', 'Madagascar', 'Malawi', 'Mali',\n",
       "       'Mauritania', 'Mauritius', 'Morocco', 'Mozambique', 'Namibia',\n",
       "       'Niger', 'Nigeria', 'Reunion', 'Rwanda', 'Sao Tome and Principe',\n",
       "       'Senegal', 'Sierra Leone', 'Somalia', 'South Africa', 'Sudan',\n",
       "       'Swaziland', 'Tanzania', 'Togo', 'Tunisia', 'Uganda', 'Zambia',\n",
       "       'Zimbabwe'], dtype=object)"
      ]
     },
     "execution_count": 169,
     "metadata": {},
     "output_type": "execute_result"
    }
   ],
   "source": [
    "df_Africa[\"pais\"].unique()"
   ]
  },
  {
   "cell_type": "markdown",
   "id": "01ce177f",
   "metadata": {},
   "source": [
    "### 2.1 Aqui foi realizada a média da expectativa de vida dentre os Países da Africa, nos anos que estão presentes no DataFrame"
   ]
  },
  {
   "cell_type": "code",
   "execution_count": 170,
   "id": "7b5be021",
   "metadata": {},
   "outputs": [
    {
     "name": "stdout",
     "output_type": "stream",
     "text": [
      "pais\n",
      "Reunion                     66.644250\n",
      "Mauritius                   64.953250\n",
      "Tunisia                     60.721000\n",
      "Libya                       59.304167\n",
      "Algeria                     59.030167\n",
      "Sao Tome and Principe       57.896333\n",
      "Morocco                     57.608833\n",
      "Egypt                       56.243000\n",
      "Botswana                    54.597500\n",
      "South Africa                53.993167\n",
      "Namibia                     53.491333\n",
      "Kenya                       52.681000\n",
      "Zimbabwe                    52.663167\n",
      "Congo, Rep.                 52.501917\n",
      "Comoros                     52.381750\n",
      "Ghana                       52.340667\n",
      "Mauritania                  52.302083\n",
      "Togo                        51.498750\n",
      "Gabon                       51.220500\n",
      "Senegal                     50.625917\n",
      "Lesotho                     50.007083\n",
      "Swaziland                   49.002417\n",
      "Benin                       48.779917\n",
      "Cote d'Ivoire               48.436167\n",
      "Sudan                       48.400500\n",
      "Cameroon                    48.128500\n",
      "Tanzania                    47.912333\n",
      "Madagascar                  47.770583\n",
      "Uganda                      47.618833\n",
      "Chad                        46.773583\n",
      "Djibouti                    46.380750\n",
      "Eritrea                     45.999250\n",
      "Zambia                      45.996333\n",
      "Burundi                     44.817333\n",
      "Burkina Faso                44.694000\n",
      "Niger                       44.558667\n",
      "Congo, Dem. Rep.            44.543750\n",
      "Ethiopia                    44.475750\n",
      "Gambia                      44.400583\n",
      "Central African Republic    43.866917\n",
      "Nigeria                     43.581333\n",
      "Mali                        43.413500\n",
      "Malawi                      43.351583\n",
      "Guinea                      43.239833\n",
      "Equatorial Guinea           42.960000\n",
      "Liberia                     42.476250\n",
      "Rwanda                      41.481583\n",
      "Somalia                     40.988667\n",
      "Mozambique                  40.379500\n",
      "Guinea-Bissau               39.210250\n",
      "Angola                      37.883500\n",
      "Sierra Leone                36.769167\n",
      "Name: expectativa de vida, dtype: float64\n"
     ]
    }
   ],
   "source": [
    "top5_EXP_Africa = df_Africa.groupby(\"pais\")[\"expectativa de vida\"].mean().sort_values(ascending=False)\n",
    "print(top5_EXP_Africa)"
   ]
  },
  {
   "cell_type": "code",
   "execution_count": 171,
   "id": "12328cf8",
   "metadata": {},
   "outputs": [],
   "source": [
    "top5_EXP_Africa = top5_EXP_Africa[:5]\n",
    "top5_EXP_Africa = [\"Reunion\",\"Mauritius\",\"Tunisia\",\"Libya\",\"Algeria\"]"
   ]
  },
  {
   "cell_type": "markdown",
   "id": "2cea5db2",
   "metadata": {},
   "source": [
    "### 2.2 Gráfico mostrando a evolução da expectativa de vida ao longo dos anos presentes no DataFrame, para os 5 países com maior média de expectativa de vida "
   ]
  },
  {
   "cell_type": "code",
   "execution_count": 172,
   "id": "9c86316f",
   "metadata": {},
   "outputs": [
    {
     "data": {
      "image/png": "[encoded data removed]",
      "text/plain": [
       "<Figure size 576x396 with 1 Axes>"
      ]
     },
     "metadata": {},
     "output_type": "display_data"
    }
   ],
   "source": [
    "for pais in top5_EXP_Africa:\n",
    "    plt.scatter(x=df_Africa.loc[df_Africa[\"pais\"] == pais][\"ano\"], y = df_Africa.loc[df_Africa[\"pais\"] == pais][\"expectativa de vida\"])\n",
    "    plt.xlabel(\"Ano\")\n",
    "    plt.ylabel(\"Expectativa de vida\")\n",
    "    plt.title(\"Evolução da expectativa de vida ao longo dos anos, dos 5 países com maior média de expectativa de vida\")\n",
    "    plt.legend(top5_EXP_Africa,loc=\"best\")"
   ]
  },
  {
   "cell_type": "code",
   "execution_count": 173,
   "id": "7c45c1e7",
   "metadata": {},
   "outputs": [
    {
     "name": "stdout",
     "output_type": "stream",
     "text": [
      "pais\n",
      "Libya                       12013.579201\n",
      "Gabon                       11529.865474\n",
      "South Africa                 7247.431074\n",
      "Botswana                     5031.503557\n",
      "Reunion                      4898.398390\n",
      "Mauritius                    4768.942221\n",
      "Algeria                      4426.025973\n",
      "Namibia                      3675.582087\n",
      "Angola                       3607.100529\n",
      "Tunisia                      3477.210351\n",
      "Congo, Rep.                  3312.788215\n",
      "Swaziland                    3163.352358\n",
      "Egypt                        3074.030731\n",
      "Djibouti                     2697.833162\n",
      "Equatorial Guinea            2469.166681\n",
      "Morocco                      2447.908864\n",
      "Cote d'Ivoire                1912.825382\n",
      "Sudan                        1835.010430\n",
      "Cameroon                     1774.634222\n",
      "Senegal                      1533.121694\n",
      "Nigeria                      1488.309429\n",
      "Sao Tome and Principe        1382.782001\n",
      "Zambia                       1358.199409\n",
      "Mauritania                   1356.671011\n",
      "Madagascar                   1335.595027\n",
      "Comoros                      1314.380339\n",
      "Kenya                        1200.415720\n",
      "Chad                         1165.453674\n",
      "Benin                        1155.395107\n",
      "Togo                         1153.820116\n",
      "Somalia                      1140.793252\n",
      "Sierra Leone                 1072.819493\n",
      "Ghana                        1044.582046\n",
      "Central African Republic      958.784697\n",
      "Tanzania                      849.281271\n",
      "Burkina Faso                  843.990665\n",
      "Uganda                        810.383788\n",
      "Niger                         781.076798\n",
      "Lesotho                       780.553393\n",
      "Guinea                        776.067305\n",
      "Gambia                        680.132586\n",
      "Rwanda                        675.669043\n",
      "Mali                          673.093069\n",
      "Guinea-Bissau                 652.157208\n",
      "Congo, Dem. Rep.              648.342646\n",
      "Zimbabwe                      635.858042\n",
      "Liberia                       604.814141\n",
      "Malawi                        575.447212\n",
      "Mozambique                    542.278332\n",
      "Eritrea                       541.002507\n",
      "Ethiopia                      509.115155\n",
      "Burundi                       471.662990\n",
      "Name: PIB, dtype: float64\n"
     ]
    }
   ],
   "source": [
    "top5_PIB_Africa = df_Africa.groupby(\"pais\")[\"PIB\"].mean().sort_values(ascending=False)\n",
    "print(top5_PIB_Africa)"
   ]
  },
  {
   "cell_type": "code",
   "execution_count": 174,
   "id": "40fced41",
   "metadata": {},
   "outputs": [],
   "source": [
    "top5_PIB_Africa = top5_PIB_Africa[:5]\n",
    "top5_PIB_Africa = [\"Libya\",\"Gabon\",\"South Africa\",\"Botswana\",\"Reunion\"]"
   ]
  },
  {
   "cell_type": "markdown",
   "id": "191e4c67",
   "metadata": {},
   "source": [
    "### 2.3 Gráfico mostrando a evolução do PIB ao longo dos anos presentes no DataFrame, para os 5 países com maior média do PIB "
   ]
  },
  {
   "cell_type": "code",
   "execution_count": 175,
   "id": "41a283a9",
   "metadata": {},
   "outputs": [
    {
     "data": {
      "image/png": "[encoded data removed]",
      "text/plain": [
       "<Figure size 576x396 with 1 Axes>"
      ]
     },
     "metadata": {},
     "output_type": "display_data"
    }
   ],
   "source": [
    "for pais in top5_PIB_Africa:\n",
    "    plt.scatter(x=df_Africa.loc[df_Africa[\"pais\"] == pais][\"ano\"], y = df_Africa.loc[df_Africa[\"pais\"] == pais][\"PIB\"])\n",
    "    plt.xlabel(\"Ano\")\n",
    "    plt.ylabel(\"PIB\")\n",
    "    plt.title(\"Evolução do PIB ao longo dos anos, dos 5 países com maior média do PIB\")\n",
    "    plt.legend(top5_PIB_Africa,loc=\"best\")"
   ]
  },
  {
   "cell_type": "markdown",
   "id": "01a2fe2a",
   "metadata": {},
   "source": [
    "### 2.4 Conclusões:\n",
    "#### Os países Reunion e Libya foram os únicos países que apareceram no 5 primeiros colocados da média, tanto da expectativa de vida, quanto do PIB. \n",
    "#### Os países Libya e Gabon apresentaram os maiores números para o PIB nas décadas de 70 e 80. Após uma queda desses números nos anos seguintes, Gabon se manteve como o país com o maior PIB do continente Africano."
   ]
  },
  {
   "cell_type": "markdown",
   "id": "eb474160",
   "metadata": {},
   "source": [
    "## --------------------------------- 3. Análise para os continentes das Américas --------------------------------------"
   ]
  },
  {
   "cell_type": "code",
   "execution_count": null,
   "id": "e3a053ec",
   "metadata": {},
   "outputs": [],
   "source": []
  },
  {
   "cell_type": "markdown",
   "id": "0159924a",
   "metadata": {},
   "source": [
    "### 3.1 Aqui foi realizada a média da expectativa de vida dentre os Países da América, nos anos que estão presentes no DataFrame"
   ]
  },
  {
   "cell_type": "code",
   "execution_count": null,
   "id": "d2919777",
   "metadata": {},
   "outputs": [],
   "source": []
  },
  {
   "cell_type": "code",
   "execution_count": null,
   "id": "285f2017",
   "metadata": {},
   "outputs": [],
   "source": []
  },
  {
   "cell_type": "markdown",
   "id": "545d6b83",
   "metadata": {},
   "source": [
    "### 3.2 Gráfico mostrando a evolução da expectativa de vida ao longo dos anos presentes no DataFrame, para os 5 países com maior média de expectativa de vida "
   ]
  },
  {
   "cell_type": "code",
   "execution_count": null,
   "id": "912308d3",
   "metadata": {},
   "outputs": [],
   "source": []
  },
  {
   "cell_type": "code",
   "execution_count": null,
   "id": "6a174909",
   "metadata": {},
   "outputs": [],
   "source": []
  },
  {
   "cell_type": "code",
   "execution_count": null,
   "id": "1e978a83",
   "metadata": {},
   "outputs": [],
   "source": []
  },
  {
   "cell_type": "markdown",
   "id": "c05a64e7",
   "metadata": {},
   "source": [
    "### 3.3 Gráfico mostrando a evolução do PIB ao longo dos anos presentes no DataFrame, para os 5 países com maior média do PIB "
   ]
  },
  {
   "cell_type": "code",
   "execution_count": null,
   "id": "c8c06ad0",
   "metadata": {},
   "outputs": [],
   "source": []
  },
  {
   "cell_type": "markdown",
   "id": "268789b9",
   "metadata": {},
   "source": [
    "### 3.4 Conclusões:\n",
    "#### Os países Reunion e Libya foram os únicos países que apareceram no 5 primeiros colocados da média, tanto da expectativa de vida, quanto do PIB. \n",
    "#### Os países Libya e Gabon apresentaram os maiores números para o PIB nas décadas de 70 e 80. Após uma queda desses números nos anos seguintes, Gabon se manteve como o país com o maior PIB do continente Africano."
   ]
  },
  {
   "cell_type": "markdown",
   "id": "ab5337fc",
   "metadata": {},
   "source": [
    "## --------------------------------- 4. Análise para o continente da Europa --------------------------------------"
   ]
  },
  {
   "cell_type": "code",
   "execution_count": null,
   "id": "705e67bd",
   "metadata": {},
   "outputs": [],
   "source": []
  },
  {
   "cell_type": "markdown",
   "id": "bf6f8b09",
   "metadata": {},
   "source": [
    "### 4.1 Aqui foi realizada a média da expectativa de vida dentre os Países da Europa, nos anos que estão presentes no DataFrame"
   ]
  },
  {
   "cell_type": "code",
   "execution_count": null,
   "id": "18c23744",
   "metadata": {},
   "outputs": [],
   "source": []
  },
  {
   "cell_type": "code",
   "execution_count": null,
   "id": "907d6657",
   "metadata": {},
   "outputs": [],
   "source": []
  },
  {
   "cell_type": "markdown",
   "id": "416fde79",
   "metadata": {},
   "source": [
    "### 4.2 Gráfico mostrando a evolução da expectativa de vida ao longo dos anos presentes no DataFrame, para os 5 países com maior média de expectativa de vida"
   ]
  },
  {
   "cell_type": "code",
   "execution_count": null,
   "id": "d7c2a85d",
   "metadata": {},
   "outputs": [],
   "source": []
  },
  {
   "cell_type": "code",
   "execution_count": null,
   "id": "313b4aa6",
   "metadata": {},
   "outputs": [],
   "source": []
  },
  {
   "cell_type": "code",
   "execution_count": null,
   "id": "bdd06adb",
   "metadata": {},
   "outputs": [],
   "source": []
  },
  {
   "cell_type": "markdown",
   "id": "e834ca7a",
   "metadata": {},
   "source": [
    "### 4.3 Gráfico mostrando a evolução do PIB ao longo dos anos presentes no DataFrame, para os 5 países com maior média do PIB"
   ]
  },
  {
   "cell_type": "code",
   "execution_count": null,
   "id": "605d9829",
   "metadata": {},
   "outputs": [],
   "source": []
  },
  {
   "cell_type": "markdown",
   "id": "21c1b5cc",
   "metadata": {},
   "source": [
    "### 4.4 Conclusões:\n",
    "#### Os países Reunion e Libya foram os únicos países que apareceram no 5 primeiros colocados da média, tanto da expectativa de vida, quanto do PIB. \n",
    "#### Os países Libya e Gabon apresentaram os maiores números para o PIB nas décadas de 70 e 80. Após uma queda desses números nos anos seguintes, Gabon se manteve como o país com o maior PIB do continente Africano."
   ]
  },
  {
   "cell_type": "markdown",
   "id": "c42de4cf",
   "metadata": {},
   "source": [
    "## --------------------------------- 5. Análise para o continente da Oceania --------------------------------------"
   ]
  },
  {
   "cell_type": "code",
   "execution_count": null,
   "id": "3409b55f",
   "metadata": {},
   "outputs": [],
   "source": []
  },
  {
   "cell_type": "markdown",
   "id": "72fbb686",
   "metadata": {},
   "source": [
    "### 5.1 Aqui foi realizada a média da expectativa de vida dentre os Países da Oceania, nos anos que estão presentes no DataFrame"
   ]
  },
  {
   "cell_type": "code",
   "execution_count": null,
   "id": "2c09eb64",
   "metadata": {},
   "outputs": [],
   "source": []
  },
  {
   "cell_type": "code",
   "execution_count": null,
   "id": "c6ec49fe",
   "metadata": {},
   "outputs": [],
   "source": []
  },
  {
   "cell_type": "markdown",
   "id": "1f11d82d",
   "metadata": {},
   "source": [
    "### 5.2 Gráfico mostrando a evolução da expectativa de vida ao longo dos anos presentes no DataFrame, para os 5 países com maior média de expectativa de vida"
   ]
  },
  {
   "cell_type": "code",
   "execution_count": null,
   "id": "70429386",
   "metadata": {},
   "outputs": [],
   "source": []
  },
  {
   "cell_type": "code",
   "execution_count": null,
   "id": "d773a2b9",
   "metadata": {},
   "outputs": [],
   "source": []
  },
  {
   "cell_type": "code",
   "execution_count": null,
   "id": "504099d3",
   "metadata": {},
   "outputs": [],
   "source": []
  },
  {
   "cell_type": "markdown",
   "id": "e2e576eb",
   "metadata": {},
   "source": [
    "### 5.3 Gráfico mostrando a evolução do PIB ao longo dos anos presentes no DataFrame, para os 5 países com maior média do PIB"
   ]
  },
  {
   "cell_type": "code",
   "execution_count": null,
   "id": "ab55a00e",
   "metadata": {},
   "outputs": [],
   "source": []
  },
  {
   "cell_type": "markdown",
   "id": "9014b44c",
   "metadata": {},
   "source": [
    "### 5.4 Conclusões:\n",
    "#### Os países Reunion e Libya foram os únicos países que apareceram no 5 primeiros colocados da média, tanto da expectativa de vida, quanto do PIB. \n",
    "#### Os países Libya e Gabon apresentaram os maiores números para o PIB nas décadas de 70 e 80. Após uma queda desses números nos anos seguintes, Gabon se manteve como o país com o maior PIB do continente Africano."
   ]
  },
  {
   "cell_type": "code",
   "execution_count": null,
   "id": "fb91a533",
   "metadata": {},
   "outputs": [],
   "source": []
  }
 ],
 "metadata": {
  "kernelspec": {
   "display_name": "Python 3 (ipykernel)",
   "language": "python",
   "name": "python3"
  },
  "language_info": {
   "codemirror_mode": {
    "name": "ipython",
    "version": 3
   },
   "file_extension": ".py",
   "mimetype": "text/x-python",
   "name": "python",
   "nbconvert_exporter": "python",
   "pygments_lexer": "ipython3",
   "version": "3.9.12"
  }
 },
 "nbformat": 4,
 "nbformat_minor": 5
}
